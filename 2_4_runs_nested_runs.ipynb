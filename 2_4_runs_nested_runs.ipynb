{
 "cells": [
  {
   "cell_type": "markdown",
   "metadata": {},
   "source": [
    "# Nested Runs"
   ]
  },
  {
   "cell_type": "code",
   "execution_count": 1,
   "metadata": {},
   "outputs": [
    {
     "data": {
      "text/plain": [
       "'file:///C:/Users/91950/mlflowlearn/mlruns'"
      ]
     },
     "execution_count": 1,
     "metadata": {},
     "output_type": "execute_result"
    }
   ],
   "source": [
    "import mlflow\n",
    "from pathlib import Path\n",
    "mlflow.set_tracking_uri(Path.cwd().joinpath(\"mlruns\").as_uri())\n",
    "mlflow.get_tracking_uri()"
   ]
  },
  {
   "cell_type": "code",
   "execution_count": 3,
   "metadata": {},
   "outputs": [
    {
     "data": {
      "text/plain": [
       "<Experiment: artifact_location='file:///C:/Users/91950/mlflowlearn/mlruns/224786408056124188', creation_time=1749986358261, experiment_id='224786408056124188', last_update_time=1749986358261, lifecycle_stage='active', name='Default', tags={}>"
      ]
     },
     "execution_count": 3,
     "metadata": {},
     "output_type": "execute_result"
    }
   ],
   "source": [
    "experiment = mlflow.get_experiment_by_name(\"Default\")\n",
    "mlflow.set_experiment(\"Default\")"
   ]
  },
  {
   "cell_type": "code",
   "execution_count": 4,
   "metadata": {},
   "outputs": [
    {
     "name": "stdout",
     "output_type": "stream",
     "text": [
      "Parent run_id: 8aeeedf9082345ca8be2bc0c77756678\n",
      "Child run_id: d53b494156d14683bef5bd1348b13c80\n",
      "Grandchild run_id: 81b143d5ebb846d8bc056a28f54413fa\n"
     ]
    }
   ],
   "source": [
    "# Before it was necessary to create a nested structure of runs to represent a parent-child relationship between runs.\n",
    "with mlflow.start_run(run_name=\"parent\") as parent_run:\n",
    "    print(\"Parent run_id:\", parent_run.info.run_id)\n",
    "    mlflow.log_param(\"parent_param1\", 2)\n",
    "\n",
    "    with mlflow.start_run(run_name=\"child\", nested=True) as child_run:\n",
    "        print(\"Child run_id:\", child_run.info.run_id)\n",
    "        mlflow.log_param(\"param1\", 1)\n",
    "        mlflow.log_metric(\"metric1\", 2.0)\n",
    "\n",
    "        with mlflow.start_run(run_name=\"grandchild\", nested=True) as grandchild_run:\n",
    "            print(\"Grandchild run_id:\", grandchild_run.info.run_id)\n",
    "            mlflow.log_param(\"param1\", 3)\n",
    "            mlflow.log_metric(\"metric1\", 4.0)"
   ]
  },
  {
   "cell_type": "markdown",
   "metadata": {},
   "source": [
    "## Nested runs using parent run"
   ]
  },
  {
   "cell_type": "code",
   "execution_count": 5,
   "metadata": {},
   "outputs": [
    {
     "name": "stdout",
     "output_type": "stream",
     "text": [
      "Parent run_id: 6b85410e27964ff09516075b6e62ad64\n",
      "Child run_id: 770a8890cc52484c9c8e2407385bc8f2\n",
      "Grandchild run_id: 7d4ae03a8b8446f2b8c7748cee828e00\n"
     ]
    }
   ],
   "source": [
    "# Now, it is possible to create a nested structure of runs using parent_run_id parameter.\n",
    "with mlflow.start_run(run_name=\"parent\") as parent_run:\n",
    "    print(\"Parent run_id:\", parent_run.info.run_id)\n",
    "    mlflow.log_param(\"parent_param1\", 2)\n",
    "\n",
    "with mlflow.start_run(run_name=\"child\", parent_run_id=parent_run.info.run_id) as child_run:\n",
    "    print(\"Child run_id:\", child_run.info.run_id)\n",
    "    mlflow.log_param(\"param1\", 1)\n",
    "    mlflow.log_metric(\"metric1\", 2.0)\n",
    "\n",
    "with mlflow.start_run(run_name=\"grandchild\", parent_run_id=child_run.info.run_id) as grandchild_run:\n",
    "    print(\"Grandchild run_id:\", grandchild_run.info.run_id)\n",
    "    mlflow.log_param(\"param1\", 3)\n",
    "    mlflow.log_metric(\"metric1\", 4.0)"
   ]
  },
  {
   "cell_type": "code",
   "execution_count": null,
   "metadata": {},
   "outputs": [],
   "source": []
  }
 ],
 "metadata": {
  "kernelspec": {
   "display_name": "Python 3 (ipykernel)",
   "language": "python",
   "name": "python3"
  },
  "language_info": {
   "codemirror_mode": {
    "name": "ipython",
    "version": 3
   },
   "file_extension": ".py",
   "mimetype": "text/x-python",
   "name": "python",
   "nbconvert_exporter": "python",
   "pygments_lexer": "ipython3",
   "version": "3.10.4"
  }
 },
 "nbformat": 4,
 "nbformat_minor": 2
}
